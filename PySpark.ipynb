{
  "nbformat": 4,
  "nbformat_minor": 0,
  "metadata": {
    "colab": {
      "name": "PySpark.ipynb",
      "provenance": [],
      "collapsed_sections": []
    },
    "kernelspec": {
      "name": "python3",
      "display_name": "Python 3"
    }
  },
  "cells": [
    {
      "cell_type": "markdown",
      "metadata": {
        "id": "SrvpETThqa--"
      },
      "source": [
        "Dataset is [here](https://www.kaggle.com/benroshan/ecommerce-data?select=Order+Details.csv).\n",
        "\n",
        "# **Questions:**\n",
        "1. In which order, there was maximum loss and in which order, there was maximum profit?\n",
        "\n",
        "2. Which category has been the most profitable and the least profitable (maybe have caused a loss as well)?\n",
        "\n",
        "3. From which state, most orders have been placed? \n",
        "\n",
        "4. Which category of product has been sold the most?\n",
        "\n",
        "5. For which all months, the sales target have been achieved? So, for each month, there's a sales target for each category. Find out for which category and which month, the sales target was achieved and not achieved.\n",
        "\n",
        "6. Which customer has spent the most amount on the website?"
      ]
    },
    {
      "cell_type": "markdown",
      "metadata": {
        "id": "Zgn_FFTA8E_p"
      },
      "source": [
        " Installing latest version of jdk"
      ]
    },
    {
      "cell_type": "code",
      "metadata": {
        "id": "AzALPz9MDY5g"
      },
      "source": [
        "!apt-get install openjdk-8-jdk-headless -qq > /dev/null"
      ],
      "execution_count": null,
      "outputs": []
    },
    {
      "cell_type": "markdown",
      "metadata": {
        "id": "BCEfCdeQ8MOm"
      },
      "source": [
        "Get url from spark's official site and download it"
      ]
    },
    {
      "cell_type": "code",
      "metadata": {
        "colab": {
          "base_uri": "https://localhost:8080/"
        },
        "id": "yZf-G14LEkHe",
        "outputId": "eee95897-833f-44bd-c030-ef050dfb391d"
      },
      "source": [
        "# get file url from the spark website\n",
        "!wget -q https://mirrors.estointernet.in/apache/spark/spark-3.1.2/spark-3.1.2-bin-hadoop2.7.tgz\n",
        "!ls"
      ],
      "execution_count": null,
      "outputs": [
        {
          "output_type": "stream",
          "text": [
            "sample_data  spark-3.1.2-bin-hadoop2.7.tgz\n"
          ],
          "name": "stdout"
        }
      ]
    },
    {
      "cell_type": "markdown",
      "metadata": {
        "id": "4UEPL1yP8den"
      },
      "source": [
        "Unzip the tar file and install findspark to get started with spark"
      ]
    },
    {
      "cell_type": "code",
      "metadata": {
        "id": "IUBY0jpPGrb-"
      },
      "source": [
        "!tar xf spark-3.1.2-bin-hadoop2.7.tgz\n",
        "!pip install -q findspark"
      ],
      "execution_count": null,
      "outputs": []
    },
    {
      "cell_type": "code",
      "metadata": {
        "id": "C1yIxxEpEvVU"
      },
      "source": [
        "import os\n",
        "os.environ[\"JAVA_HOME\"] = \"/usr/lib/jvm/java-8-openjdk-amd64\"\n",
        "os.environ[\"SPARK_HOME\"] = \"/content/spark-3.1.2-bin-hadoop2.7\""
      ],
      "execution_count": null,
      "outputs": []
    },
    {
      "cell_type": "code",
      "metadata": {
        "colab": {
          "base_uri": "https://localhost:8080/",
          "height": 35
        },
        "id": "0eZd4K1zE0LE",
        "outputId": "c5477c44-2727-4c52-f1a1-72e594a70167"
      },
      "source": [
        "import findspark\n",
        "findspark.init()\n",
        "findspark.find()"
      ],
      "execution_count": null,
      "outputs": [
        {
          "output_type": "execute_result",
          "data": {
            "application/vnd.google.colaboratory.intrinsic+json": {
              "type": "string"
            },
            "text/plain": [
              "'/content/spark-3.1.2-bin-hadoop2.7'"
            ]
          },
          "metadata": {
            "tags": []
          },
          "execution_count": 7
        }
      ]
    },
    {
      "cell_type": "markdown",
      "metadata": {
        "id": "mPoVG5G18pXa"
      },
      "source": [
        "Create the spark session"
      ]
    },
    {
      "cell_type": "code",
      "metadata": {
        "id": "rQHo_gvsIIsB"
      },
      "source": [
        "import pyspark\n",
        "from pyspark.sql import SparkSession\n",
        "\n",
        "\n",
        "spark=SparkSession.builder.master('local[1]').appName('E-commerce').getOrCreate()"
      ],
      "execution_count": null,
      "outputs": []
    },
    {
      "cell_type": "markdown",
      "metadata": {
        "id": "OkRuu_dK81b8"
      },
      "source": [
        "Load the data sets"
      ]
    },
    {
      "cell_type": "code",
      "metadata": {
        "id": "3p0YCoUHI9Ga"
      },
      "source": [
        "order_deets_df = spark.read.csv(\"/content/Order Details.csv\", header = True, inferSchema = True)\n",
        "orders_df = spark.read.csv(\"/content/List of Orders.csv\", header = True, inferSchema = True)\n",
        "target_df = spark.read.csv(\"/content/Sales target.csv\", header = True, inferSchema = True)"
      ],
      "execution_count": null,
      "outputs": []
    },
    {
      "cell_type": "code",
      "metadata": {
        "id": "BmYEeVSBqLAX",
        "colab": {
          "base_uri": "https://localhost:8080/"
        },
        "outputId": "827bdd49-6deb-4aef-d2c3-924ccae57500"
      },
      "source": [
        "order_deets_df.printSchema()\n",
        "orders_df.printSchema()\n",
        "target_df.printSchema()"
      ],
      "execution_count": null,
      "outputs": [
        {
          "output_type": "stream",
          "text": [
            "root\n",
            " |-- Order ID: string (nullable = true)\n",
            " |-- Amount: double (nullable = true)\n",
            " |-- Profit: double (nullable = true)\n",
            " |-- Quantity: integer (nullable = true)\n",
            " |-- Category: string (nullable = true)\n",
            " |-- Sub-Category: string (nullable = true)\n",
            "\n",
            "root\n",
            " |-- Order ID: string (nullable = true)\n",
            " |-- Order Date: string (nullable = true)\n",
            " |-- CustomerName: string (nullable = true)\n",
            " |-- State: string (nullable = true)\n",
            " |-- City: string (nullable = true)\n",
            "\n",
            "root\n",
            " |-- Month of Order Date: string (nullable = true)\n",
            " |-- Category: string (nullable = true)\n",
            " |-- Target: double (nullable = true)\n",
            "\n"
          ],
          "name": "stdout"
        }
      ]
    },
    {
      "cell_type": "code",
      "metadata": {
        "id": "QmQ6vuvAVG9-"
      },
      "source": [
        "from pyspark.sql.functions import * \n"
      ],
      "execution_count": 149,
      "outputs": []
    },
    {
      "cell_type": "markdown",
      "metadata": {
        "id": "aohLFU5qqiiO"
      },
      "source": [
        "**1. Max and Min Profit**"
      ]
    },
    {
      "cell_type": "code",
      "metadata": {
        "id": "IzZuAGcKVd2x",
        "colab": {
          "base_uri": "https://localhost:8080/"
        },
        "outputId": "f7df2be4-6cb4-4a1a-af9f-3bea6fdec442"
      },
      "source": [
        "mod_order = order_deets_df.groupBy(\"Order ID\").agg(sum(\"Profit\").alias(\"Profit Per Order\")).orderBy(desc(\"Profit Per Order\"))\n",
        "print(\"Order with max Profit:\",mod_order.first())\n",
        "print(\"Order with max loss:\",mod_order.tail(1))"
      ],
      "execution_count": 273,
      "outputs": [
        {
          "output_type": "stream",
          "text": [
            "Order with max Profit: Row(Order ID='B-25973', Profit Per Order=1970.0)\n",
            "Order with max loss: [Row(Order ID='B-25798', Profit Per Order=-1836.0)]\n"
          ],
          "name": "stdout"
        }
      ]
    },
    {
      "cell_type": "markdown",
      "metadata": {
        "id": "nPb6oPrIsVn_"
      },
      "source": [
        "**4. Category of Product that is sold the most**"
      ]
    },
    {
      "cell_type": "code",
      "metadata": {
        "colab": {
          "base_uri": "https://localhost:8080/"
        },
        "id": "t9OvlYZXAAIP",
        "outputId": "3c8d9bdd-dd89-41a6-c41b-09fa42cb1ffb"
      },
      "source": [
        "order_deets_df.select(\"Category\",\"Quantity\").orderBy(desc(\"Quantity\")).show()"
      ],
      "execution_count": null,
      "outputs": [
        {
          "output_type": "stream",
          "text": [
            "+-----------+--------+\n",
            "|   Category|Quantity|\n",
            "+-----------+--------+\n",
            "|  Furniture|      14|\n",
            "|   Clothing|      14|\n",
            "|   Clothing|      13|\n",
            "|   Clothing|      13|\n",
            "|  Furniture|      13|\n",
            "|Electronics|      13|\n",
            "|  Furniture|      12|\n",
            "|   Clothing|      12|\n",
            "|   Clothing|      12|\n",
            "|Electronics|      11|\n",
            "|Electronics|      11|\n",
            "|   Clothing|      11|\n",
            "|Electronics|      11|\n",
            "|   Clothing|      11|\n",
            "|Electronics|      11|\n",
            "|Electronics|      11|\n",
            "|  Furniture|      11|\n",
            "|   Clothing|      11|\n",
            "|   Clothing|      11|\n",
            "|  Furniture|      10|\n",
            "+-----------+--------+\n",
            "only showing top 20 rows\n",
            "\n"
          ],
          "name": "stdout"
        }
      ]
    },
    {
      "cell_type": "code",
      "metadata": {
        "colab": {
          "base_uri": "https://localhost:8080/"
        },
        "id": "mWhlSLPlD6tK",
        "outputId": "488fcbdc-d6c8-4d61-9d4b-67987206fd45"
      },
      "source": [
        "order_deets_df.groupBy(\"Category\").agg(sum(\"Quantity\").alias(\"Number of Products Sold\")).orderBy(desc(\"Number of Products Sold\")).show(1)\n"
      ],
      "execution_count": 97,
      "outputs": [
        {
          "output_type": "stream",
          "text": [
            "+--------+-----------------------+\n",
            "|Category|Number of Products Sold|\n",
            "+--------+-----------------------+\n",
            "|Clothing|                   3516|\n",
            "+--------+-----------------------+\n",
            "only showing top 1 row\n",
            "\n"
          ],
          "name": "stdout"
        }
      ]
    },
    {
      "cell_type": "markdown",
      "metadata": {
        "id": "qRhRMKzJwRnn"
      },
      "source": [
        "**3. Category of Product that is most and least Profitable**"
      ]
    },
    {
      "cell_type": "code",
      "metadata": {
        "id": "KGPdPfcnGsMO",
        "colab": {
          "base_uri": "https://localhost:8080/"
        },
        "outputId": "fe788504-1c69-4987-85ca-44a9233eae02"
      },
      "source": [
        "category_mod = order_deets_df.groupBy(\"Category\").agg(sum(\"Profit\").alias(\"Profit Per Category\")).orderBy(desc(\"Profit Per Category\"))\n",
        "print(\"Category of Product is most Profitable:\",category_mod.first())\n",
        "print(\"Category of Product that is least Profitable:\",category_mod.tail(1))"
      ],
      "execution_count": 103,
      "outputs": [
        {
          "output_type": "stream",
          "text": [
            "Category of Product is most Profitable: Row(Category='Clothing', Profit Per Category=11163.0)\n",
            "Category of Product that is least Profitable: [Row(Category='Furniture', Profit Per Category=2298.0)]\n"
          ],
          "name": "stdout"
        }
      ]
    },
    {
      "cell_type": "markdown",
      "metadata": {
        "id": "6M5V6V9ry-lR"
      },
      "source": [
        "**3. State with maximum orders placed**"
      ]
    },
    {
      "cell_type": "code",
      "metadata": {
        "colab": {
          "base_uri": "https://localhost:8080/"
        },
        "id": "Z_0v29m3I-DH",
        "outputId": "fe97d442-fef4-4262-f73b-9c769624b12a"
      },
      "source": [
        "most_sold = orders_df.groupBy(\"State\").count().orderBy(desc(\"Count\")).show(1)"
      ],
      "execution_count": 116,
      "outputs": [
        {
          "output_type": "stream",
          "text": [
            "+--------------+-----+\n",
            "|         State|count|\n",
            "+--------------+-----+\n",
            "|Madhya Pradesh|  101|\n",
            "+--------------+-----+\n",
            "only showing top 1 row\n",
            "\n"
          ],
          "name": "stdout"
        }
      ]
    },
    {
      "cell_type": "markdown",
      "metadata": {
        "id": "f-PP9ZyaBQYb"
      },
      "source": [
        "**6. Best Customer with maximum sales**"
      ]
    },
    {
      "cell_type": "code",
      "metadata": {
        "colab": {
          "base_uri": "https://localhost:8080/"
        },
        "id": "wmav3KMnZWWc",
        "outputId": "94771282-5915-463a-afc4-7ac7e9c300a2"
      },
      "source": [
        "#order_amount = order_deets_df.groupBy(\"Order ID\").agg(sum(col(\"Amount\")*col(\"Quantity\")).alias(\"Total_sales\")).orderBy(desc(\"Total_sales\"))\n",
        "#get the total amount per order\n",
        "order_amount = order_deets_df.groupBy(\"Order ID\").agg(sum(\"Amount\").alias(\"Amount\"))\n",
        "\n",
        "#join the above df and orders_df to get the customername\n",
        "best_cust = orders_df.join(order_amount,on=\"Order ID\",how=\"inner\")\n",
        "best_cust.show(20)\n",
        "\n",
        "#get the total_sales by aggregating the amount grouped by Customername\n",
        "best_cust.groupBy(\"CustomerName\").agg(sum(\"Amount\").alias(\"Total_sales\"))\\\n",
        "        .orderBy(desc(\"Total_sales\")).show(1)\n",
        "\n"
      ],
      "execution_count": 270,
      "outputs": [
        {
          "output_type": "stream",
          "text": [
            "+--------+----------+------------+-----------------+------------------+------+\n",
            "|Order ID|Order Date|CustomerName|            State|              City|Amount|\n",
            "+--------+----------+------------+-----------------+------------------+------+\n",
            "| B-25730|22-07-2018|     Rishabh|        Rajasthan|            Jaipur|2002.0|\n",
            "| B-25787|20-09-2018|       Asish|Jammu and Kashmir|           Kashmir| 965.0|\n",
            "| B-25895|04-12-2018|      Sathya|          Gujarat|             Surat| 388.0|\n",
            "| B-25991|03-02-2019|       Mansi|   Madhya Pradesh|            Indore| 291.0|\n",
            "| B-25660|16-05-2018|      Shruti|        Karnataka|         Bangalore| 245.0|\n",
            "| B-25788|21-09-2018|      Dinesh|       Tamil Nadu|           Chennai|  12.0|\n",
            "| B-25693|18-06-2018|       Parna|   Madhya Pradesh|            Bhopal| 975.0|\n",
            "| B-25799|01-10-2018|    Divyansh|          Gujarat|         Ahmedabad| 367.0|\n",
            "| B-25812|10-10-2018|     Kshitij|   Madhya Pradesh|            Indore| 259.0|\n",
            "| B-25888|02-12-2018|       Rohan|           Punjab|          Amritsar| 887.0|\n",
            "| B-25904|10-12-2018|     Swapnil|            Delhi|             Delhi| 954.0|\n",
            "| B-25641|27-04-2018|     Parishi|      West Bengal|           Kolkata|  22.0|\n",
            "| B-25631|24-04-2018|        Ritu|          Haryana|        Chandigarh|  89.0|\n",
            "| B-25853|08-11-2018|      Gaurav|          Gujarat|         Ahmedabad|3208.0|\n",
            "| B-25986|31-01-2019|      Shweta|        Rajasthan|           Udaipur|2225.0|\n",
            "| B-26026|19-02-2019|       Kanak|              Goa|               Goa| 280.0|\n",
            "| B-25681|04-06-2018|      Bhawna|   Madhya Pradesh|            Indore|3599.0|\n",
            "| B-25683|08-06-2018|      Shreya|          Kerala |Thiruvananthapuram|1067.0|\n",
            "| B-25692|17-06-2018|      Rashmi|   Madhya Pradesh|            Indore| 141.0|\n",
            "| B-26042|28-02-2019|      Manish| Himachal Pradesh|             Simla|  36.0|\n",
            "+--------+----------+------------+-----------------+------------------+------+\n",
            "only showing top 20 rows\n",
            "\n",
            "+------------+-----------+\n",
            "|CustomerName|Total_sales|\n",
            "+------------+-----------+\n",
            "|      Yaanvi|     9177.0|\n",
            "+------------+-----------+\n",
            "only showing top 1 row\n",
            "\n"
          ],
          "name": "stdout"
        }
      ]
    },
    {
      "cell_type": "markdown",
      "metadata": {
        "id": "Tjnl7aiMBdHq"
      },
      "source": [
        "Multiplying two columns using selectExpr"
      ]
    },
    {
      "cell_type": "code",
      "metadata": {
        "id": "2jcQJ_H1ZfSv",
        "colab": {
          "base_uri": "https://localhost:8080/"
        },
        "outputId": "252f6c30-05ab-492f-add2-c37b6cd1f302"
      },
      "source": [
        "Total_amount = order_deets_df.select(\"Order ID\",\"Amount\", \"Quantity\").selectExpr(\"Amount * Quantity\").show()"
      ],
      "execution_count": 128,
      "outputs": [
        {
          "output_type": "stream",
          "text": [
            "+-------------------+\n",
            "|(Amount * Quantity)|\n",
            "+-------------------+\n",
            "|             8925.0|\n",
            "|              330.0|\n",
            "|               24.0|\n",
            "|              320.0|\n",
            "|              336.0|\n",
            "|             2120.0|\n",
            "|            10468.0|\n",
            "|             1683.0|\n",
            "|              952.0|\n",
            "|             6775.0|\n",
            "|               24.0|\n",
            "|              579.0|\n",
            "|              540.0|\n",
            "|              464.0|\n",
            "|              642.0|\n",
            "|               24.0|\n",
            "|               38.0|\n",
            "|              130.0|\n",
            "|             1413.0|\n",
            "|              525.0|\n",
            "+-------------------+\n",
            "only showing top 20 rows\n",
            "\n"
          ],
          "name": "stdout"
        }
      ]
    },
    {
      "cell_type": "markdown",
      "metadata": {
        "id": "ohEscDVd_W61"
      },
      "source": [
        "**5. Checking target achieved status**"
      ]
    },
    {
      "cell_type": "code",
      "metadata": {
        "colab": {
          "base_uri": "https://localhost:8080/"
        },
        "id": "vJBRoNlE3l_L",
        "outputId": "58c62a47-6ea2-4aed-8d69-31a9c49fefa4"
      },
      "source": [
        "#to check the target achieved status, we have to work with all the three datasets based on date and category \n",
        "target_df.show()"
      ],
      "execution_count": 145,
      "outputs": [
        {
          "output_type": "stream",
          "text": [
            "+-------------------+---------+-------+\n",
            "|Month of Order Date| Category| Target|\n",
            "+-------------------+---------+-------+\n",
            "|             Apr-18|Furniture|10400.0|\n",
            "|             May-18|Furniture|10500.0|\n",
            "|             Jun-18|Furniture|10600.0|\n",
            "|             Jul-18|Furniture|10800.0|\n",
            "|             Aug-18|Furniture|10900.0|\n",
            "|             Sep-18|Furniture|11000.0|\n",
            "|             Oct-18|Furniture|11100.0|\n",
            "|             Nov-18|Furniture|11300.0|\n",
            "|             Dec-18|Furniture|11400.0|\n",
            "|             Jan-19|Furniture|11500.0|\n",
            "|             Feb-19|Furniture|11600.0|\n",
            "|             Mar-19|Furniture|11800.0|\n",
            "|             Apr-18| Clothing|12000.0|\n",
            "|             May-18| Clothing|12000.0|\n",
            "|             Jun-18| Clothing|12000.0|\n",
            "|             Jul-18| Clothing|14000.0|\n",
            "|             Aug-18| Clothing|14000.0|\n",
            "|             Sep-18| Clothing|14000.0|\n",
            "|             Oct-18| Clothing|16000.0|\n",
            "|             Nov-18| Clothing|16000.0|\n",
            "+-------------------+---------+-------+\n",
            "only showing top 20 rows\n",
            "\n"
          ],
          "name": "stdout"
        }
      ]
    },
    {
      "cell_type": "code",
      "metadata": {
        "colab": {
          "base_uri": "https://localhost:8080/"
        },
        "id": "6WTJCTg4Dgsa",
        "outputId": "630b07c5-c993-47a3-d13d-7d0b118eaec4"
      },
      "source": [
        "#from this table we have to focus on date and order_id and modify the order date column to the required format in Month of order date column in\n",
        "#target_df table.  \n",
        "orders_df.show()\n"
      ],
      "execution_count": 146,
      "outputs": [
        {
          "output_type": "stream",
          "text": [
            "+--------+----------+------------+-----------------+------------------+\n",
            "|Order ID|Order Date|CustomerName|            State|              City|\n",
            "+--------+----------+------------+-----------------+------------------+\n",
            "| B-25601|01-04-2018|      Bharat|          Gujarat|         Ahmedabad|\n",
            "| B-25602|01-04-2018|       Pearl|      Maharashtra|              Pune|\n",
            "| B-25603|03-04-2018|       Jahan|   Madhya Pradesh|            Bhopal|\n",
            "| B-25604|03-04-2018|      Divsha|        Rajasthan|            Jaipur|\n",
            "| B-25605|05-04-2018|     Kasheen|      West Bengal|           Kolkata|\n",
            "| B-25606|06-04-2018|       Hazel|        Karnataka|         Bangalore|\n",
            "| B-25607|06-04-2018|    Sonakshi|Jammu and Kashmir|           Kashmir|\n",
            "| B-25608|08-04-2018|     Aarushi|       Tamil Nadu|           Chennai|\n",
            "| B-25609|09-04-2018|      Jitesh|    Uttar Pradesh|           Lucknow|\n",
            "| B-25610|09-04-2018|      Yogesh|            Bihar|             Patna|\n",
            "| B-25611|11-04-2018|       Anita|          Kerala |Thiruvananthapuram|\n",
            "| B-25612|12-04-2018|   Shrichand|           Punjab|        Chandigarh|\n",
            "| B-25613|12-04-2018|      Mukesh|          Haryana|        Chandigarh|\n",
            "| B-25614|13-04-2018|     Vandana| Himachal Pradesh|             Simla|\n",
            "| B-25615|15-04-2018|      Bhavna|           Sikkim|           Gangtok|\n",
            "| B-25616|15-04-2018|       Kanak|              Goa|               Goa|\n",
            "| B-25617|17-04-2018|       Sagar|         Nagaland|            Kohima|\n",
            "| B-25618|18-04-2018|       Manju|   Andhra Pradesh|         Hyderabad|\n",
            "| B-25619|18-04-2018|      Ramesh|          Gujarat|         Ahmedabad|\n",
            "| B-25620|20-04-2018|      Sarita|      Maharashtra|              Pune|\n",
            "+--------+----------+------------+-----------------+------------------+\n",
            "only showing top 20 rows\n",
            "\n"
          ],
          "name": "stdout"
        }
      ]
    },
    {
      "cell_type": "code",
      "metadata": {
        "id": "yO7vrI_nEOlT"
      },
      "source": [
        "#segregating the month and year from order_df table \n",
        "#using date_format to get the respective format required \n",
        "#Note: before using the date_format convert the string type of date to timestamp type using the to_timestamp() or cast(\"timestamp\")\n",
        "\n",
        "date_div = orders_df.select(\"Order ID\",\"Order Date\").withColumn(\"month\",date_format(to_timestamp(\"Order Date\",\"dd-MM-yyyy\"),\"MMM\"))\\\n",
        "                  .withColumn(\"year\",date_format(to_timestamp(\"Order Date\",\"dd-MM-yyyy\"),\"yy\"))\n",
        "\n",
        "#accumulating the required columns \n",
        "order_sales = order_deets_df.join(date_div,on=\"Order ID\",how=\"left\")\n",
        "            "
      ],
      "execution_count": 255,
      "outputs": []
    },
    {
      "cell_type": "code",
      "metadata": {
        "id": "rYzb80PzVM__"
      },
      "source": [
        "#concatinating the month and year column by a delimiter '-' and name it as \"Date\"\n",
        "date_table = order_sales.select(concat_ws(\"-\",\"month\",\"year\").alias(\"Date\"),\"Category\",\"Amount\",\"Quantity\")"
      ],
      "execution_count": 256,
      "outputs": []
    },
    {
      "cell_type": "code",
      "metadata": {
        "colab": {
          "base_uri": "https://localhost:8080/"
        },
        "id": "7llqBLiBc5z7",
        "outputId": "053edec4-b79e-490d-a86e-e3d7672ee08a"
      },
      "source": [
        "#aggregate the amount grouping Date and Category column\n",
        "Amount_per_cat = date_table.groupBy([\"Date\",\"Category\"])\\\n",
        "      .agg(sum(\"Amount\").alias(\"Total_Amount\"))\\\n",
        "      .orderBy([\"Total_Amount\"],descending=True)\n",
        "Amount_per_cat.show(10)"
      ],
      "execution_count": 271,
      "outputs": [
        {
          "output_type": "stream",
          "text": [
            "+------+-----------+------------+\n",
            "|  Date|   Category|Total_Amount|\n",
            "+------+-----------+------------+\n",
            "|Jul-18|   Clothing|      2981.0|\n",
            "|Jul-18|  Furniture|      3483.0|\n",
            "|Jun-18|  Furniture|      5532.0|\n",
            "|May-18|  Furniture|      6220.0|\n",
            "|Jul-18|Electronics|      6502.0|\n",
            "|Oct-18|  Furniture|      6766.0|\n",
            "|Sep-18|Electronics|      7207.0|\n",
            "|Apr-18|  Furniture|      8121.0|\n",
            "|Sep-18|  Furniture|      8704.0|\n",
            "|Jun-18|   Clothing|      8782.0|\n",
            "+------+-----------+------------+\n",
            "only showing top 10 rows\n",
            "\n"
          ],
          "name": "stdout"
        }
      ]
    },
    {
      "cell_type": "code",
      "metadata": {
        "colab": {
          "base_uri": "https://localhost:8080/"
        },
        "id": "jbpn-_8Me11M",
        "outputId": "7b0c72d7-77a9-4b80-a956-dae631566184"
      },
      "source": [
        "#this function is to get the status by comparing the total amount and target \n",
        "get_achieved = udf(lambda x,y: \"NO\" if x<y else \"YES\")\n",
        "\n",
        "#to get the target and total amount in one dataframe I used join and passed the arguments to the user defined function for getting the status \n",
        "target_temp = target_df.select(col(\"Month of Order Date\").alias(\"Date\"),\"Category\",\"Target\")\n",
        "target_temp.show(10)\n",
        "target = target_temp.join(Amount_per_cat,on=[\"Date\", \"Category\"],how=\"inner\")\\\n",
        "  .withColumn(\"Achieved_status\",get_achieved(\"Total_Amount\",\"Target\")).show()"
      ],
      "execution_count": 272,
      "outputs": [
        {
          "output_type": "stream",
          "text": [
            "+------+---------+-------+\n",
            "|  Date| Category| Target|\n",
            "+------+---------+-------+\n",
            "|Apr-18|Furniture|10400.0|\n",
            "|May-18|Furniture|10500.0|\n",
            "|Jun-18|Furniture|10600.0|\n",
            "|Jul-18|Furniture|10800.0|\n",
            "|Aug-18|Furniture|10900.0|\n",
            "|Sep-18|Furniture|11000.0|\n",
            "|Oct-18|Furniture|11100.0|\n",
            "|Nov-18|Furniture|11300.0|\n",
            "|Dec-18|Furniture|11400.0|\n",
            "|Jan-19|Furniture|11500.0|\n",
            "+------+---------+-------+\n",
            "only showing top 10 rows\n",
            "\n",
            "+------+-----------+-------+------------+---------------+\n",
            "|  Date|   Category| Target|Total_Amount|Achieved_status|\n",
            "+------+-----------+-------+------------+---------------+\n",
            "|Feb-19|Electronics|16000.0|     12593.0|             NO|\n",
            "|Nov-18|Electronics| 9000.0|     16651.0|            YES|\n",
            "|Mar-19|  Furniture|11800.0|     16659.0|            YES|\n",
            "|Sep-18|Electronics| 9000.0|      7207.0|             NO|\n",
            "|Aug-18|   Clothing|14000.0|     11822.0|             NO|\n",
            "|Apr-18|  Furniture|10400.0|      8121.0|             NO|\n",
            "|Dec-18|Electronics| 9000.0|     18560.0|            YES|\n",
            "|Jun-18|Electronics| 9000.0|      9344.0|            YES|\n",
            "|Jul-18|Electronics| 9000.0|      6502.0|             NO|\n",
            "|Jun-18|  Furniture|10600.0|      5532.0|             NO|\n",
            "|Jan-19|  Furniture|11500.0|     21257.0|            YES|\n",
            "|Nov-18|   Clothing|16000.0|     16270.0|            YES|\n",
            "|Apr-18|Electronics| 9000.0|     11127.0|            YES|\n",
            "|Aug-18|Electronics| 9000.0|      9539.0|            YES|\n",
            "|Jul-18|  Furniture|10800.0|      3483.0|             NO|\n",
            "|May-18|   Clothing|12000.0|      9518.0|             NO|\n",
            "|Aug-18|  Furniture|10900.0|      9538.0|             NO|\n",
            "|Jul-18|   Clothing|14000.0|      2981.0|             NO|\n",
            "|Oct-18|  Furniture|11100.0|      6766.0|             NO|\n",
            "|Jun-18|   Clothing|12000.0|      8782.0|             NO|\n",
            "+------+-----------+-------+------------+---------------+\n",
            "only showing top 20 rows\n",
            "\n"
          ],
          "name": "stdout"
        }
      ]
    },
    {
      "cell_type": "code",
      "metadata": {
        "id": "OMNJaMI_kFK5"
      },
      "source": [
        ""
      ],
      "execution_count": null,
      "outputs": []
    }
  ]
}